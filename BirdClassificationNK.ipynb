{
  "nbformat": 4,
  "nbformat_minor": 0,
  "metadata": {
    "colab": {
      "name": "BirdClassificationNK.ipynb",
      "provenance": [],
      "toc_visible": true
    },
    "kernelspec": {
      "name": "python3",
      "display_name": "Python 3"
    }
  },
  "cells": [
    {
      "cell_type": "markdown",
      "metadata": {
        "id": "SN9RiGYB8R2j",
        "colab_type": "text"
      },
      "source": [
        "# README for Caltech_UCSD Birds-200-2011\n",
        "\n",
        "**Introduction to Data:** This dataset consists of photos of 200 bird species where I specifically explored the classification of wrens, sparrows,warblers, and vireos. Associated with the project were the following files:\n",
        "\n",
        "1.   Images: images of each of the birds\n",
        "2.   Train/ Test Split: splits for training and testing\n",
        "3. Bounding boxes: the x, y, width, and height of the boxes surrounding the birds\n",
        "\n",
        "**Steps** \n",
        "1. Imported the data and processed it\n",
        "\n",
        "> To process the data, I first imported all the files and combined them into a larger dataset that was concated based on bird id. I only kept the four species that were mentioned in the assignment. In the dataframe, there was a column that identifies whether the bird was a training or testing bird. I was then able to create a training and testing data. For both dataframes, I changed all the images to be 224X224X3 and divided the pixel values by 255.0 to ensure their values are between 0 and 1.  \n",
        "\n",
        "2. Created the 5 layer NN model\n",
        "\n",
        "> For the model, I had two 32filters followed by two 64 filters. I utilized max-pooling between layers to reduce the amount of parameters and computation cost. Additionally, max-pooling theoretically extracts the sharpest features. I also added some dropout layers to prevent overfitting of the data.\n",
        "\n",
        "3. Evaluated said model\n",
        "> I used accuracy and a confusion matrix to evaluate the model to find the TP, FP, TN, FN for each class. This evaluation allowed me to better see which classes were mis-classified and where I needed to focus my energy. \n",
        "\n",
        "\n",
        "\n",
        "**Results**\n",
        "The model achieved 87% accuracy during training, but since the classes were imbalanced, with mostly images of sparrows and warblers, this model needs further image augmentation for the other classes. Hence, although the performance seems high, it is not an accurate depiction of the model success.\n",
        "\n",
        "**Next Steps**\n",
        "1. As I simply hard-coded the hyperparameters, I would like to go back and do a grid-search on them. I also would like to explore different variations of architecture. For instance, I think underlying the model with a ResNet framework would likely improve performance.  \n",
        "\n",
        "2. I need to oversample the vireos and wren classes. \n",
        "\n",
        "3. Additionally, I would like to use the bounding-boxes to actually crop the images before processing them. \n",
        "\n",
        "4.  I need to remove all the hard coding from my code and transform the blocks of code into actual classes so they're easier to re-use. \n",
        "\n",
        "\n",
        "\n",
        "More information on dataset can be found here:\n",
        "\n",
        "> http://www.vision.caltech.edu/visipedia\n",
        "\n",
        "\n"
      ]
    },
    {
      "cell_type": "markdown",
      "metadata": {
        "id": "S-Wy751Og0Ts",
        "colab_type": "text"
      },
      "source": [
        "1. The first step was to import all the necessary packages"
      ]
    },
    {
      "cell_type": "code",
      "metadata": {
        "id": "oLAkX6YiKmcd",
        "colab_type": "code",
        "colab": {
          "base_uri": "https://localhost:8080/",
          "height": 89
        },
        "outputId": "92983695-a872-4723-f62e-cd4ebab5d591"
      },
      "source": [
        "import os\n",
        "import pandas as pd\n",
        "import numpy as np\n",
        "import matplotlib.pyplot as plt\n",
        "import seaborn as sns\n",
        "from PIL import Image\n",
        "from functools import reduce\n",
        "from numpy import asarray\n",
        "from sklearn.model_selection import train_test_split\n",
        "from sklearn.utils import class_weight\n",
        "from keras.preprocessing.image import ImageDataGenerator\n",
        "from keras.utils.np_utils import to_categorical\n",
        "import matplotlib.pyplot as plt\n",
        "from sklearn.metrics import confusion_matrix\n",
        "import itertools\n",
        "from keras.models import Sequential\n",
        "from keras.layers import Dense, Dropout, Flatten, Conv2D, MaxPool2D\n",
        "from keras.optimizers import RMSprop\n",
        "from keras.preprocessing.image import ImageDataGenerator\n",
        "np.random.seed(1)"
      ],
      "execution_count": null,
      "outputs": [
        {
          "output_type": "stream",
          "text": [
            "/usr/local/lib/python3.6/dist-packages/statsmodels/tools/_testing.py:19: FutureWarning: pandas.util.testing is deprecated. Use the functions in the public API at pandas.testing instead.\n",
            "  import pandas.util.testing as tm\n",
            "Using TensorFlow backend.\n"
          ],
          "name": "stderr"
        }
      ]
    },
    {
      "cell_type": "markdown",
      "metadata": {
        "id": "vzzIbVBgRx1y",
        "colab_type": "text"
      },
      "source": [
        "2. Next, I downloaded the data directly from Caltech, extracted the necessary files, and opened them up\n",
        "\n",
        "The compiled dataset consisted of:\n",
        "\n",
        "\n",
        "> 1. image_class_labels: bird species labels\n",
        "> 2. images.txt: file name\n",
        "> 3. train_test_split.txt: training and testing splits\n",
        "> 4. bounding_boxes.txt: the bounding boxes\n",
        "\n",
        "\n"
      ]
    },
    {
      "cell_type": "code",
      "metadata": {
        "id": "qM-m9lX6LfQE",
        "colab_type": "code",
        "colab": {
          "base_uri": "https://localhost:8080/",
          "height": 208
        },
        "outputId": "07921f45-b36d-4180-c48d-2080b7474177"
      },
      "source": [
        "!wget http://www.vision.caltech.edu/visipedia-data/CUB-200-2011/CUB_200_2011.tgz"
      ],
      "execution_count": null,
      "outputs": [
        {
          "output_type": "stream",
          "text": [
            "--2020-05-16 14:21:54--  http://www.vision.caltech.edu/visipedia-data/CUB-200-2011/CUB_200_2011.tgz\n",
            "Resolving www.vision.caltech.edu (www.vision.caltech.edu)... 34.208.54.77\n",
            "Connecting to www.vision.caltech.edu (www.vision.caltech.edu)|34.208.54.77|:80... connected.\n",
            "HTTP request sent, awaiting response... 200 OK\n",
            "Length: 1150585339 (1.1G) [application/x-tar]\n",
            "Saving to: ‘CUB_200_2011.tgz’\n",
            "\n",
            "CUB_200_2011.tgz    100%[===================>]   1.07G  27.0MB/s    in 39s     \n",
            "\n",
            "2020-05-16 14:22:33 (28.4 MB/s) - ‘CUB_200_2011.tgz’ saved [1150585339/1150585339]\n",
            "\n"
          ],
          "name": "stdout"
        }
      ]
    },
    {
      "cell_type": "code",
      "metadata": {
        "id": "ee3Q0CXwY8qw",
        "colab_type": "code",
        "colab": {}
      },
      "source": [
        "!tar xvzf CUB_200_2011.tgz"
      ],
      "execution_count": null,
      "outputs": []
    },
    {
      "cell_type": "code",
      "metadata": {
        "id": "EV_r-eZZNOdF",
        "colab_type": "code",
        "colab": {}
      },
      "source": [
        "path = 'CUB_200_2011/'\n",
        "imageClass =  pd.read_csv(path+\"image_class_labels.txt\", header=None, sep=\" \")\n",
        "imageClass.columns = ['id', 'class']\n",
        "\n",
        "imageName = pd.read_csv(path+'images.txt', header=None, sep=\" \")\n",
        "imageName.columns = ['id', 'imageName']\n",
        "\n",
        "boundingBoxes = pd.read_csv(path+'bounding_boxes.txt',header=None, sep=\" \")\n",
        "boundingBoxes.columns = ['id','x','y','width','height' ]\n",
        "\n",
        "trainTestSplit = pd.read_csv(path+'train_test_split.txt', header=None, sep=\" \")\n",
        "trainTestSplit.columns = ['id', 'trainTest']"
      ],
      "execution_count": null,
      "outputs": []
    },
    {
      "cell_type": "markdown",
      "metadata": {
        "id": "3ovB3-5ohoWw",
        "colab_type": "text"
      },
      "source": [
        "3. After opening up all the different file sources, I needed to create a training and testing set that solely consisting of wrens, warblers, vireos, and sparrows. Hence, I combined all of the txt files together on the bird's id and extracted the training and testing files"
      ]
    },
    {
      "cell_type": "code",
      "metadata": {
        "id": "jdSmB-DrkVdA",
        "colab_type": "code",
        "colab": {}
      },
      "source": [
        "class BirdsData:\n",
        "  CLASSES = '(Wren|Warbler|Vireo|Sparrow)'\n",
        "  def __init__(self, initialPath, imageName, imageClass, boundingBoxes, trainTestSplit):\n",
        "      self.initialPath = initialPath\n",
        "      self.imageName = imageName\n",
        "      self.imageClass= imageClass\n",
        "      self.boundingBoxes = boundingBoxes\n",
        "      self.trainTestSplit = trainTestSplit\n",
        "\n",
        "  def createOverallDF(self):\n",
        "    df = reduce(lambda x,y: pd.merge(x,y, on='id', how='outer'), [self.imageName,self.imageClass, self.boundingBoxes, self.trainTestSplit])\n",
        "    df2 = df[df['imageName'].str.contains(self.CLASSES, regex=True)]\n",
        "    df2['class'][df2['imageName'].str.contains('Wren', regex=True)]=0\n",
        "    df2['class'][df2['imageName'].str.contains('Warbler', regex=True)]=1\n",
        "    df2['class'][df2['imageName'].str.contains('Vireo', regex=True)]=2\n",
        "    df2['class'][df2['imageName'].str.contains('Sparrow', regex=True)]=3\n",
        "    df2.insert(1, 'pathImages',self.initialPath+'images/'+df2['imageName'])\n",
        "    return df2\n",
        "\n",
        "  def createTrainTestDFS(self, overallDF):\n",
        "    testData = overallDF[overallDF['trainTest']==0]\n",
        "    trainData = overallDF[overallDF['trainTest']==1]\n",
        "    return trainData, testData\n",
        "  "
      ],
      "execution_count": null,
      "outputs": []
    },
    {
      "cell_type": "code",
      "metadata": {
        "id": "UJhO-ykpNlJh",
        "colab_type": "code",
        "colab": {
          "base_uri": "https://localhost:8080/",
          "height": 505
        },
        "outputId": "b173960f-1609-4cca-804d-fe19f682a006"
      },
      "source": [
        "birdData = BirdsData(path, imageName, imageClass, boundingBoxes,trainTestSplit)\n",
        "overallDF = birdData.createOverallDF()\n",
        "trainDF, testDF = birdData.createTrainTestDFS(overallDF)"
      ],
      "execution_count": null,
      "outputs": [
        {
          "output_type": "stream",
          "text": [
            "/usr/local/lib/python3.6/dist-packages/pandas/core/strings.py:1954: UserWarning: This pattern has match groups. To actually get the groups, use str.extract.\n",
            "  return func(self, *args, **kwargs)\n",
            "/usr/local/lib/python3.6/dist-packages/ipykernel_launcher.py:13: SettingWithCopyWarning: \n",
            "A value is trying to be set on a copy of a slice from a DataFrame\n",
            "\n",
            "See the caveats in the documentation: https://pandas.pydata.org/pandas-docs/stable/user_guide/indexing.html#returning-a-view-versus-a-copy\n",
            "  del sys.path[0]\n",
            "/usr/local/lib/python3.6/dist-packages/pandas/core/generic.py:8765: SettingWithCopyWarning: \n",
            "A value is trying to be set on a copy of a slice from a DataFrame\n",
            "\n",
            "See the caveats in the documentation: https://pandas.pydata.org/pandas-docs/stable/user_guide/indexing.html#returning-a-view-versus-a-copy\n",
            "  self._update_inplace(new_data)\n",
            "/usr/local/lib/python3.6/dist-packages/ipykernel_launcher.py:14: SettingWithCopyWarning: \n",
            "A value is trying to be set on a copy of a slice from a DataFrame\n",
            "\n",
            "See the caveats in the documentation: https://pandas.pydata.org/pandas-docs/stable/user_guide/indexing.html#returning-a-view-versus-a-copy\n",
            "  \n",
            "/usr/local/lib/python3.6/dist-packages/ipykernel_launcher.py:15: SettingWithCopyWarning: \n",
            "A value is trying to be set on a copy of a slice from a DataFrame\n",
            "\n",
            "See the caveats in the documentation: https://pandas.pydata.org/pandas-docs/stable/user_guide/indexing.html#returning-a-view-versus-a-copy\n",
            "  from ipykernel import kernelapp as app\n",
            "/usr/local/lib/python3.6/dist-packages/ipykernel_launcher.py:16: SettingWithCopyWarning: \n",
            "A value is trying to be set on a copy of a slice from a DataFrame\n",
            "\n",
            "See the caveats in the documentation: https://pandas.pydata.org/pandas-docs/stable/user_guide/indexing.html#returning-a-view-versus-a-copy\n",
            "  app.launch_new_instance()\n"
          ],
          "name": "stderr"
        }
      ]
    },
    {
      "cell_type": "markdown",
      "metadata": {
        "id": "51TQPN4ih-DL",
        "colab_type": "text"
      },
      "source": [
        "4. From there, I wanted to look at the distribution of classes in the training set. From the count-plot below, one can tell that classes 1 and 3 (warbler and sparrow) are fairly saturated, but wren and vireo are not. Hence, there are a couple options to consider: oversampling, undersampling, and assigning different class weights. As the warbler and sparrow dataset are both around 200 images, it would be to my detriment to downsample. Hence, I would argue oversampling and assigning class weights would work best here."
      ]
    },
    {
      "cell_type": "code",
      "metadata": {
        "id": "gI7dYGkOsjUz",
        "colab_type": "code",
        "colab": {
          "base_uri": "https://localhost:8080/",
          "height": 279
        },
        "outputId": "a79ec287-7e21-4096-a4f7-ea4f3702cb16"
      },
      "source": [
        "yTrain = trainDF[\"class\"]\n",
        "class_weights = class_weight.compute_class_weight('balanced',[0,1,2,3], yTrain)\n",
        "sns.countplot(yTrain)\n",
        "xTrain = trainDF.drop(labels = [\"class\"],axis = 1) "
      ],
      "execution_count": null,
      "outputs": [
        {
          "output_type": "display_data",
          "data": {
            "image/png": "[encoded data removed]",
            "text/plain": [
              "<Figure size 432x288 with 1 Axes>"
            ]
          },
          "metadata": {
            "tags": [],
            "needs_background": "light"
          }
        }
      ]
    },
    {
      "cell_type": "code",
      "metadata": {
        "id": "YPusCTzB_1ZP",
        "colab_type": "code",
        "colab": {}
      },
      "source": [
        "inputSize = 224\n",
        "\n",
        "def loadImage(df):\n",
        "  l = []\n",
        "  for i in df.index:\n",
        "    img = Image.open(df['pathImages'][i])\n",
        "    imResize = img.resize((inputSize,inputSize), Image.ANTIALIAS)\n",
        "    pixels = asarray(imResize).astype('float32')\n",
        "    pixels= pixels/255.0\n",
        "    l.append(pixels)\n",
        "  l = np.asarray(l)\n",
        "  return l"
      ],
      "execution_count": null,
      "outputs": []
    },
    {
      "cell_type": "code",
      "metadata": {
        "id": "aUQWjyxtAcYM",
        "colab_type": "code",
        "colab": {}
      },
      "source": [
        "X_train = loadImage(trainDF)"
      ],
      "execution_count": null,
      "outputs": []
    },
    {
      "cell_type": "code",
      "metadata": {
        "id": "bS420RDHBoOc",
        "colab_type": "code",
        "colab": {
          "base_uri": "https://localhost:8080/",
          "height": 35
        },
        "outputId": "5b544b64-7d69-4d4a-8ac9-33edb7c008e0"
      },
      "source": [
        "X_train.shape"
      ],
      "execution_count": null,
      "outputs": [
        {
          "output_type": "execute_result",
          "data": {
            "text/plain": [
              "(1798, 224, 224, 3)"
            ]
          },
          "metadata": {
            "tags": []
          },
          "execution_count": 8
        }
      ]
    },
    {
      "cell_type": "code",
      "metadata": {
        "id": "xx3oagdbBB7H",
        "colab_type": "code",
        "colab": {}
      },
      "source": [
        "yTrain = to_categorical(yTrain, num_classes = 4)"
      ],
      "execution_count": null,
      "outputs": []
    },
    {
      "cell_type": "code",
      "metadata": {
        "id": "aZmUkkHXBsNA",
        "colab_type": "code",
        "colab": {
          "base_uri": "https://localhost:8080/",
          "height": 35
        },
        "outputId": "e61ca63e-63e5-419a-a4cc-fdf1521cc629"
      },
      "source": [
        "yTrain.shape"
      ],
      "execution_count": null,
      "outputs": [
        {
          "output_type": "execute_result",
          "data": {
            "text/plain": [
              "(1798, 4)"
            ]
          },
          "metadata": {
            "tags": []
          },
          "execution_count": 14
        }
      ]
    },
    {
      "cell_type": "markdown",
      "metadata": {
        "id": "bbQsiN9Cjd5B",
        "colab_type": "text"
      },
      "source": [
        "5. I then split my training data into training and a validation set. 80% of the data would be used for training and 20% for validation."
      ]
    },
    {
      "cell_type": "code",
      "metadata": {
        "id": "ksshJGXWYZdH",
        "colab_type": "code",
        "colab": {}
      },
      "source": [
        "X_train, X_val, Y_train, Y_val = train_test_split(X_train, yTrain, test_size = 0.2, random_state=1)"
      ],
      "execution_count": null,
      "outputs": []
    },
    {
      "cell_type": "code",
      "metadata": {
        "id": "8Mp8lEodZKYx",
        "colab_type": "code",
        "colab": {
          "base_uri": "https://localhost:8080/",
          "height": 287
        },
        "outputId": "9a46bfa6-6200-4fdb-93f4-68b764d54a76"
      },
      "source": [
        "plt.imshow(X_train[0][:,:,0])"
      ],
      "execution_count": null,
      "outputs": [
        {
          "output_type": "execute_result",
          "data": {
            "text/plain": [
              "<matplotlib.image.AxesImage at 0x7fc06377c278>"
            ]
          },
          "metadata": {
            "tags": []
          },
          "execution_count": 16
        },
        {
          "output_type": "display_data",
          "data": {
            "image/png": "[encoded data removed]",
            "text/plain": [
              "<Figure size 432x288 with 1 Axes>"
            ]
          },
          "metadata": {
            "tags": [],
            "needs_background": "light"
          }
        }
      ]
    },
    {
      "cell_type": "markdown",
      "metadata": {
        "id": "_1gYCBd5jpB7",
        "colab_type": "text"
      },
      "source": [
        "5. For the model, I had two 32filters followed by two 64 filters. I utilized max-pooling between layers to reduce the amount of parameters and computation cost. Additionally, max-pooling theoretically extracts the sharpest features. I also added some dropout layers to prevent overfitting of the data."
      ]
    },
    {
      "cell_type": "code",
      "metadata": {
        "id": "-a0p6o_VZabO",
        "colab_type": "code",
        "colab": {}
      },
      "source": [
        "model = Sequential()\n",
        "model.add(Conv2D(filters = 32, kernel_size = (5,5),padding = 'Same', \n",
        "                 activation ='relu', input_shape = (inputSize,inputSize,3)))\n",
        "model.add(Conv2D(filters = 32, kernel_size = (5,5),padding = 'Same', \n",
        "                 activation ='relu'))\n",
        "model.add(MaxPool2D(pool_size=(2,2)))\n",
        "model.add(Dropout(0.25))\n",
        "model.add(Conv2D(filters = 64, kernel_size = (3,3),padding = 'Same', \n",
        "                 activation ='relu'))\n",
        "model.add(Conv2D(filters = 64, kernel_size = (3,3),padding = 'Same', \n",
        "                 activation ='relu'))\n",
        "model.add(MaxPool2D(pool_size=(2,2), strides=(2,2)))\n",
        "model.add(Dropout(0.25))\n",
        "model.add(Flatten())\n",
        "model.add(Dense(256, activation = \"relu\"))\n",
        "model.add(Dropout(0.5))\n",
        "model.add(Dense(4, activation = \"softmax\"))"
      ],
      "execution_count": null,
      "outputs": []
    },
    {
      "cell_type": "markdown",
      "metadata": {
        "id": "ZBiQsb3nkXmp",
        "colab_type": "text"
      },
      "source": [
        "6. I then chose the RMSprop optimizer with default values. Ideally, I would have done a grid search to find the best parameters for the optimizer, but I did run out of time."
      ]
    },
    {
      "cell_type": "code",
      "metadata": {
        "id": "ghiATIW8akab",
        "colab_type": "code",
        "colab": {}
      },
      "source": [
        "from tensorflow import keras\n",
        "\n",
        "optimizer = keras.optimizers.Adam(learning_rate=0.01)"
      ],
      "execution_count": null,
      "outputs": []
    },
    {
      "cell_type": "code",
      "metadata": {
        "id": "3Y8w_bf7alaU",
        "colab_type": "code",
        "colab": {}
      },
      "source": [
        "model.compile(optimizer = optimizer , loss = \"categorical_crossentropy\", metrics=[\"accuracy\"])"
      ],
      "execution_count": null,
      "outputs": []
    },
    {
      "cell_type": "markdown",
      "metadata": {
        "id": "_SDnctwjNPpG",
        "colab_type": "text"
      },
      "source": [
        "7. I augmented the images by rotating them, altering the zoom and flipping them. This prevents the model from overfitting the data."
      ]
    },
    {
      "cell_type": "code",
      "metadata": {
        "id": "-u3vR04zeTPD",
        "colab_type": "code",
        "colab": {}
      },
      "source": [
        "datagen = ImageDataGenerator(rotation_range = 30, zoom_range = 0.15, horizontal_flip= True, fill_mode= 'nearest')\n",
        "it = datagen.flow(X_train, Y_train, batch_size = 32)"
      ],
      "execution_count": null,
      "outputs": []
    },
    {
      "cell_type": "markdown",
      "metadata": {
        "id": "HOwmE0xpNu7m",
        "colab_type": "text"
      },
      "source": [
        "8. Finally, I actually fitted the data and visualized it in the confusion matrix below. Class 0 and 2 did not do very well. I need to take some time to over-sample the two classes so they do not automatically default to classes 1 and 3. Overall, this model needs  lot of tuning."
      ]
    },
    {
      "cell_type": "code",
      "metadata": {
        "id": "zZDVOFN5a0IT",
        "colab_type": "code",
        "colab": {}
      },
      "source": [
        "model.fit(x= X_train, y = Y_train, epochs=10, validation_data = (X_val,Y_val), class_weight= class_weights, batch_size=64,)"
      ],
      "execution_count": null,
      "outputs": []
    },
    {
      "cell_type": "code",
      "metadata": {
        "id": "I3vHOn3VqshE",
        "colab_type": "code",
        "colab": {
          "base_uri": "https://localhost:8080/",
          "height": 311
        },
        "outputId": "4615b38b-1233-4e15-dbd7-417937996bf0"
      },
      "source": [
        "def confusionMatrix(cm, classes,\n",
        "                          normalize=False,\n",
        "                          cmap=plt.cm.Blues):\n",
        "  plt.imshow(cm, interpolation='nearest', cmap=cmap)\n",
        "  plt.title('Birds Classification')\n",
        "  plt.colorbar()\n",
        "  tick_marks = np.arange(len(classes))\n",
        "  plt.xticks(tick_marks, classes, rotation=45)\n",
        "  plt.yticks(tick_marks, classes)\n",
        "\n",
        "  if normalize:\n",
        "      cm = cm.astype('float') / cm.sum(axis=1)[:, np.newaxis]\n",
        "\n",
        "  thresh = cm.max() / 2.\n",
        "  for i, j in itertools.product(range(cm.shape[0]), range(cm.shape[1])):\n",
        "      plt.text(j, i, cm[i, j],\n",
        "                horizontalalignment=\"center\",\n",
        "                color=\"white\" if cm[i, j] > thresh else \"black\")\n",
        "\n",
        "  plt.tight_layout()\n",
        "  plt.ylabel('True label')\n",
        "  plt.xlabel('Predicted label')\n",
        "\n",
        "yPredicted = model.predict(X_val) \n",
        "YPredictedClasses = np.argmax(yPredicted,axis = 1) \n",
        "Y_true = np.argmax(Y_val,axis = 1) \n",
        "confusion_mtx = confusion_matrix(Y_true, YPredictedClasses) \n",
        "confusionMatrix(confusion_mtx, classes = range(4))"
      ],
      "execution_count": null,
      "outputs": [
        {
          "output_type": "display_data",
          "data": {
            "image/png": "[encoded data removed]",
            "text/plain": [
              "<Figure size 432x288 with 2 Axes>"
            ]
          },
          "metadata": {
            "tags": [],
            "needs_background": "light"
          }
        }
      ]
    },
    {
      "cell_type": "code",
      "metadata": {
        "id": "uLa0zVR_rDVS",
        "colab_type": "code",
        "colab": {}
      },
      "source": [
        "testData = loadImage(testDF)"
      ],
      "execution_count": null,
      "outputs": []
    },
    {
      "cell_type": "code",
      "metadata": {
        "id": "ycY67mgYsyf2",
        "colab_type": "code",
        "colab": {
          "base_uri": "https://localhost:8080/",
          "height": 225
        },
        "outputId": "21a42ce1-469a-454b-83c2-f1ea9d786408"
      },
      "source": [
        "results = model.predict(testData)\n",
        "results = np.argmax(results,axis = 1)\n",
        "results = pd.Series(results,name=\"Class\")"
      ],
      "execution_count": null,
      "outputs": [
        {
          "output_type": "execute_result",
          "data": {
            "text/plain": [
              "11      1\n",
              "56      1\n",
              "65      1\n",
              "84      1\n",
              "91      1\n",
              "       ..\n",
              "1712    1\n",
              "1728    1\n",
              "1749    1\n",
              "1754    1\n",
              "1757    1\n",
              "Name: Class, Length: 648, dtype: int64"
            ]
          },
          "metadata": {
            "tags": []
          },
          "execution_count": 178
        }
      ]
    },
    {
      "cell_type": "code",
      "metadata": {
        "id": "yiRt6RfshkWN",
        "colab_type": "code",
        "colab": {
          "base_uri": "https://localhost:8080/",
          "height": 252
        },
        "outputId": "054bb4e0-6e31-49ab-8114-9554710c309b"
      },
      "source": [
        ""
      ],
      "execution_count": 11,
      "outputs": [
        {
          "output_type": "stream",
          "text": [
            "Reinitialized existing Git repository in /content/.git/\n",
            "fatal: pathspec 'README.md' did not match any files\n",
            "On branch master\n",
            "\n",
            "Initial commit\n",
            "\n",
            "Untracked files:\n",
            "\t\u001b[31m.config/\u001b[m\n",
            "\t\u001b[31msample_data/\u001b[m\n",
            "\n",
            "nothing added to commit but untracked files present\n",
            "fatal: remote origin already exists.\n",
            "error: src refspec master does not match any.\n",
            "error: failed to push some refs to 'https://github.com/akats16/birdClassification.git'\n"
          ],
          "name": "stdout"
        }
      ]
    }
  ]
}